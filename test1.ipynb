{
 "cells": [
  {
   "cell_type": "code",
   "execution_count": 1,
   "metadata": {},
   "outputs": [
    {
     "name": "stdout",
     "output_type": "stream",
     "text": [
      "   x\n",
      "                                                            Type: Variable(x)\n"
     ]
    },
    {
     "data": {},
     "metadata": {},
     "output_type": "display_data"
    }
   ],
   "source": [
    "x"
   ]
  },
  {
   "cell_type": "code",
   "execution_count": 2,
   "metadata": {},
   "outputs": [
    {
     "name": "stdout",
     "output_type": "stream",
     "text": [
      "   x + 2\n",
      "                                                    Type: Polynomial(Integer)\n"
     ]
    },
    {
     "data": {},
     "metadata": {},
     "output_type": "display_data"
    }
   ],
   "source": [
    "x+2"
   ]
  },
  {
   "cell_type": "code",
   "execution_count": 3,
   "metadata": {},
   "outputs": [
    {
     "name": "stdout",
     "output_type": "stream",
     "text": [
      "   100\n",
      "                                                        Type: PositiveInteger\n",
      "   10000\n",
      "                                                        Type: PositiveInteger\n"
     ]
    },
    {
     "data": {},
     "metadata": {},
     "output_type": "display_data"
    }
   ],
   "source": [
    "x:=100\n",
    "x^2"
   ]
  },
  {
   "cell_type": "code",
   "execution_count": 4,
   "metadata": {},
   "outputs": [
    {
     "name": "stdout",
     "output_type": "stream",
     "text": [
      "    2\n",
      "   y  + 2 y + 1\n",
      "                                                    Type: Polynomial(Integer)\n",
      "   2 y + 2\n",
      "                                                    Type: Polynomial(Integer)\n",
      "   2 y + 4\n",
      "                                                    Type: Polynomial(Integer)\n"
     ]
    },
    {
     "data": {},
     "metadata": {},
     "output_type": "display_data"
    }
   ],
   "source": [
    "Z:=(1+y)^2\n",
    "D(Z,y)\n",
    "%+2"
   ]
  },
  {
   "cell_type": "code",
   "execution_count": 5,
   "metadata": {},
   "outputs": [
    {
     "name": "stdout",
     "output_type": "stream",
     "text": [
      "                                                                   Type: Void\n"
     ]
    },
    {
     "data": {},
     "metadata": {},
     "output_type": "display_data"
    }
   ],
   "source": [
    "f(x) ==\n",
    "  x=2 => 0\n",
    "  x<0 => -1\n",
    "  100\n",
    "  "
   ]
  },
  {
   "cell_type": "code",
   "execution_count": 6,
   "metadata": {},
   "outputs": [
    {
     "name": "stdout",
     "output_type": "stream",
     "text": [
      "   100\n",
      "                                                        Type: PositiveInteger\n"
     ]
    },
    {
     "data": {},
     "metadata": {},
     "output_type": "display_data"
    }
   ],
   "source": [
    "f(8)"
   ]
  },
  {
   "cell_type": "code",
   "execution_count": 7,
   "metadata": {},
   "outputs": [
    {
     "name": "stdout",
     "output_type": "stream",
     "text": [
      "   \"abcdefgg\"\n",
      "                                                                 Type: String\n"
     ]
    },
    {
     "data": {},
     "metadata": {},
     "output_type": "display_data"
    }
   ],
   "source": [
    "\"abcd\" \"efgg\""
   ]
  },
  {
   "cell_type": "code",
   "execution_count": 8,
   "metadata": {},
   "outputs": [
    {
     "name": "stdout",
     "output_type": "stream",
     "text": [
      "   [1, 4, 9, 16, 25, 36, 49, 64, 81, 100]\n",
      "                                                  Type: List(PositiveInteger)\n"
     ]
    },
    {
     "data": {},
     "metadata": {},
     "output_type": "display_data"
    }
   ],
   "source": [
    "[j^2 for j in 1..10]"
   ]
  },
  {
   "cell_type": "code",
   "execution_count": 9,
   "metadata": {},
   "outputs": [
    {
     "name": "stdout",
     "output_type": "stream",
     "text": [
      "   false\n",
      "                                                                Type: Boolean\n"
     ]
    },
    {
     "data": {},
     "metadata": {},
     "output_type": "display_data"
    }
   ],
   "source": [
    "prime? 9"
   ]
  },
  {
   "cell_type": "code",
   "execution_count": 10,
   "metadata": {},
   "outputs": [
    {
     "name": "stdout",
     "output_type": "stream",
     "text": [
      "   MMXVIII\n",
      "                                                           Type: RomanNumeral\n"
     ]
    },
    {
     "data": {},
     "metadata": {},
     "output_type": "display_data"
    }
   ],
   "source": [
    "roman 2018"
   ]
  },
  {
   "cell_type": "code",
   "execution_count": 11,
   "metadata": {},
   "outputs": [
    {
     "name": "stdout",
     "output_type": "stream",
     "text": [
      "   20\n",
      "                                                        Type: PositiveInteger\n",
      "   [r = - 0.6546536706_9042711367_1812210509_5984761851_224331556,\n",
      "    r = 1.0869213956_5385950849_3939035954_8932890092_13388763,\n",
      "    r = 0.6546536707_2552717396_9468606613_6764835361_487607661]\n",
      "                                      Type: List(Equation(Polynomial(Float)))\n"
     ]
    },
    {
     "data": {},
     "metadata": {},
     "output_type": "display_data"
    }
   ],
   "source": [
    "digits(49)\n",
    "solve(r^49-49*r^4+9 = 0,1.e-49)"
   ]
  },
  {
   "cell_type": "code",
   "execution_count": 12,
   "metadata": {
    "scrolled": true
   },
   "outputs": [
    {
     "name": "stdout",
     "output_type": "stream",
     "text": [
      "            2 2 +-+    3+-+3+-------+2   3+-+2 3+-------+\n",
      "       - 2 b t \\|3 log(\\|a \\|b t + a   + \\|a   \\|b t + a  + a)\n",
      "     + \n",
      "          2 2 +-+    3+-+2 3+-------+\n",
      "       4 b t \\|3 log(\\|a   \\|b t + a  - a)\n",
      "     + \n",
      "                      +-+3+-+2 3+-------+     +-+\n",
      "           2 2     2 \\|3 \\|a   \\|b t + a  + a\\|3\n",
      "       12 b t atan(------------------------------)\n",
      "                                 3 a\n",
      "     + \n",
      "                      +-+3+-+3+-------+2\n",
      "       (12 b t - 9 a)\\|3 \\|a \\|b t + a\n",
      "  /\n",
      "         2 2 +-+3+-+\n",
      "     18 a t \\|3 \\|a\n",
      "                                         Type: Union(Expression(Integer),...)\n"
     ]
    },
    {
     "data": {},
     "metadata": {},
     "output_type": "display_data"
    }
   ],
   "source": [
    "integrate(1/(t^3 * (a+b*t)^(1/3)),t)"
   ]
  },
  {
   "cell_type": "code",
   "execution_count": 13,
   "metadata": {},
   "outputs": [
    {
     "name": "stdout",
     "output_type": "stream",
     "text": [
      "         - 2 t + %pi    1      %pi 2    7      %pi 4    62       %pi 6\n",
      "     log(-----------) + - (t - ---)  + -- (t - ---)  + ---- (t - ---)\n",
      "              2         3       2      90       2      2835       2\n",
      "   + \n",
      "      127       %pi 8    146       %pi 10          %pi 11\n",
      "     ----- (t - ---)  + ----- (t - ---)   + O((t - ---)  )\n",
      "     18900       2      66825       2               2\n",
      "              Type: GeneralUnivariatePowerSeries(Expression(Integer),t,%pi/2)\n"
     ]
    },
    {
     "data": {},
     "metadata": {},
     "output_type": "display_data"
    }
   ],
   "source": [
    "series(log(cot(t)),t = %pi/2)"
   ]
  },
  {
   "cell_type": "code",
   "execution_count": 14,
   "metadata": {},
   "outputs": [
    {
     "name": "stdout",
     "output_type": "stream",
     "text": [
      "   +t + %i   0 +\n",
      "   |           |\n",
      "   +  1     - 2+\n",
      "                                   Type: Matrix(Polynomial(Complex(Integer)))\n"
     ]
    },
    {
     "data": {},
     "metadata": {},
     "output_type": "display_data"
    }
   ],
   "source": [
    "matrix [ [t + %i,0], [1,-2] ]"
   ]
  },
  {
   "cell_type": "code",
   "execution_count": 15,
   "metadata": {},
   "outputs": [
    {
     "name": "stdout",
     "output_type": "stream",
     "text": [
      "   {sin(y + x) == cos(x)sin(y) + cos(y)sin(x),\n",
      "    cos(y + x) == - sin(x)sin(y) + cos(x)cos(y), sin(2 x) == 2 cos(x)sin(x),\n",
      "                        2         2\n",
      "    cos(2 x) == - sin(x)  + cos(x) }\n",
      "                           Type: Ruleset(Integer,Integer,Expression(Integer))\n"
     ]
    },
    {
     "data": {},
     "metadata": {},
     "output_type": "display_data"
    }
   ],
   "source": [
    "sinCosExpandRules := rule \n",
    "   sin(x+y) == sin(x)*cos(y) + sin(y)*cos(x) \n",
    "   cos(x+y) == cos(x)*cos(y) - sin(x)*sin(y)\n",
    "   sin(2*x) == 2*sin(x)*cos(x)  \n",
    "   cos(2*x) == cos(x)^2 - sin(x)^2 "
   ]
  },
  {
   "cell_type": "code",
   "execution_count": 16,
   "metadata": {},
   "outputs": [
    {
     "name": "stdout",
     "output_type": "stream",
     "text": [
      "                    2                                      2\n",
      "     (- cos(a)sin(b)  - 2 cos(b)sin(a)sin(b) + cos(a)cos(b) )sin(c)\n",
      "   + \n",
      "                         2                                      2\n",
      "     - cos(c)sin(a)sin(b)  + 2 cos(a)cos(b)cos(c)sin(b) + cos(b) cos(c)sin(a)\n",
      "                                                    Type: Expression(Integer)\n"
     ]
    },
    {
     "data": {},
     "metadata": {},
     "output_type": "display_data"
    }
   ],
   "source": [
    "sinCosExpandRules(sin(a+2*b+c))"
   ]
  },
  {
   "cell_type": "code",
   "execution_count": 17,
   "metadata": {},
   "outputs": [
    {
     "name": "stdout",
     "output_type": "stream",
     "text": [
      "                                                                   Type: Void\n",
      "                                                                   Type: Void\n",
      "                                                                   Type: Void\n"
     ]
    },
    {
     "data": {},
     "metadata": {},
     "output_type": "display_data"
    }
   ],
   "source": [
    "p(0) == 1\n",
    "p(1) == u\n",
    "p(n) == ((2*n-1)*u*p(n-1) - (n-1) * p(n-2))/n"
   ]
  },
  {
   "cell_type": "code",
   "execution_count": 18,
   "metadata": {},
   "outputs": [
    {
     "name": "stdout",
     "output_type": "stream",
     "text": [
      "   46189  10   109395  8   45045  6   15015  4   3465  2    63\n",
      "   ----- u   - ------ u  + ----- u  - ----- u  + ---- u  - ---\n",
      "    256          256        128        128        256      256\n",
      "                                          Type: Polynomial(Fraction(Integer))\n"
     ]
    },
    {
     "data": {},
     "metadata": {},
     "output_type": "display_data"
    }
   ],
   "source": [
    "p(10)"
   ]
  },
  {
   "cell_type": "code",
   "execution_count": 19,
   "metadata": {},
   "outputs": [
    {
     "name": "stdout",
     "output_type": "stream",
     "text": [
      "   5688265542052017822223458237426581853561497449095175\n",
      "   ----------------------------------------------------\n",
      "                77371252455336267181195264\n",
      "                                          Type: Polynomial(Fraction(Integer))\n"
     ]
    },
    {
     "data": {},
     "metadata": {},
     "output_type": "display_data"
    }
   ],
   "source": [
    "coefficient(p(90),u,90)"
   ]
  },
  {
   "cell_type": "code",
   "execution_count": 20,
   "metadata": {},
   "outputs": [
    {
     "name": "stdout",
     "output_type": "stream",
     "text": [
      "            15  2   3  35  3   15    315  4   105  2   15\n",
      "   [1, 3 u, -- u  - -, -- u  - -- u, --- u  - --- u  + --,\n",
      "             2      2   2       2     8        4        8\n",
      "    693  5   315  3   105    3003  6   3465  4   945  2   35\n",
      "    --- u  - --- u  + --- u, ---- u  - ---- u  + --- u  - --,\n",
      "     8        4        8      16        16        16      16\n",
      "    6435  7   9009  5   3465  3   315\n",
      "    ---- u  - ---- u  + ---- u  - --- u,\n",
      "     16        16        16        16\n",
      "    109395  8   45045  6   45045  4   3465  2   315\n",
      "    ------ u  - ----- u  + ----- u  - ---- u  + ---,\n",
      "      128         32         64        32       128\n",
      "    230945  9   109395  7   135135  5   15015  3   3465\n",
      "    ------ u  - ------ u  + ------ u  - ----- u  + ---- u, ...]\n",
      "      128         32          64          32        128\n",
      "                                  Type: Stream(Polynomial(Fraction(Integer)))\n"
     ]
    },
    {
     "data": {},
     "metadata": {},
     "output_type": "display_data"
    }
   ],
   "source": [
    "[D(p(i),u) for i in 1..]"
   ]
  },
  {
   "cell_type": "code",
   "execution_count": 21,
   "metadata": {},
   "outputs": [
    {
     "name": "stdout",
     "output_type": "stream",
     "text": []
    },
    {
     "data": {},
     "metadata": {},
     "output_type": "display_data"
    }
   ],
   "source": [
    ")set output tex on"
   ]
  },
  {
   "cell_type": "code",
   "execution_count": 22,
   "metadata": {},
   "outputs": [
    {
     "name": "stdout",
     "output_type": "stream",
     "text": [
      "            15  2   3  35  3   15    315  4   105  2   15\n",
      "   [1, 3 u, -- u  - -, -- u  - -- u, --- u  - --- u  + --,\n",
      "             2      2   2       2     8        4        8\n",
      "    693  5   315  3   105    3003  6   3465  4   945  2   35\n",
      "    --- u  - --- u  + --- u, ---- u  - ---- u  + --- u  - --,\n",
      "     8        4        8      16        16        16      16\n",
      "    6435  7   9009  5   3465  3   315\n",
      "    ---- u  - ---- u  + ---- u  - --- u,\n",
      "     16        16        16        16\n",
      "    109395  8   45045  6   45045  4   3465  2   315\n",
      "    ------ u  - ----- u  + ----- u  - ---- u  + ---,\n",
      "      128         32         64        32       128\n",
      "    230945  9   109395  7   135135  5   15015  3   3465\n",
      "    ------ u  - ------ u  + ------ u  - ----- u  + ---- u, ...]\n",
      "      128         32          64          32        128\n",
      "                                  Type: Stream(Polynomial(Fraction(Integer)))\n"
     ]
    },
    {
     "data": {
      "text/latex": [
       "\\(\\def\\sp{^}\\def\\sb{_}\\def\\leqno(#1){}\\)\\(\\def\\erf\\{\\mathrm{erf}}\\def\\sinh{\\mathrm{sinh}}\\)\\(\\def\\zag#1#2{{{ \\left.{#1}\\right|}\\over{\\left|{#2}\\right.}}}\\)\\(\\require{color}\\)$$\n",
       "{\\color{black} \\normalsize \n",
       "\\left[\n",
       "1, \\: {3 \\  u}, \\: {{{{15} \\over 2} \\  {{u} \\sp {2}}} -{3 \\over 2}}, \\: \n",
       "{{{{35} \\over 2} \\  {{u} \\sp {3}}} -{{{15} \\over 2} \\  u}}, \\: {{{{315} \\over \n",
       "8} \\  {{u} \\sp {4}}} -{{{105} \\over 4} \\  {{u} \\sp {2}}}+{{15} \\over 8}}, \\: \n",
       "{{{{693} \\over 8} \\  {{u} \\sp {5}}} -{{{315} \\over 4} \\  {{u} \\sp \n",
       "{3}}}+{{{105} \\over 8} \\  u}}, \\: {{{{3003} \\over {16}} \\  {{u} \\sp {6}}} \n",
       "-{{{3465} \\over {16}} \\  {{u} \\sp {4}}}+{{{945} \\over {16}} \\  {{u} \\sp {2}}} \n",
       "-{{35} \\over {16}}}, \\: {{{{6435} \\over {16}} \\  {{u} \\sp {7}}} -{{{9009} \n",
       "\\over {16}} \\  {{u} \\sp {5}}}+{{{3465} \\over {16}} \\  {{u} \\sp {3}}} -{{{315} \n",
       "\\over {16}} \\  u}}, \\: {{{{109395} \\over {128}} \\  {{u} \\sp {8}}} -{{{45045} \n",
       "\\over {32}} \\  {{u} \\sp {6}}}+{{{45045} \\over {64}} \\  {{u} \\sp {4}}} \n",
       "-{{{3465} \\over {32}} \\  {{u} \\sp {2}}}+{{315} \\over {128}}}, \\: {{{{230945} \n",
       "\\over {128}} \\  {{u} \\sp {9}}} -{{{109395} \\over {32}} \\  {{u} \\sp \n",
       "{7}}}+{{{135135} \\over {64}} \\  {{u} \\sp {5}}} -{{{15015} \\over {32}} \\  {{u} \n",
       "\\sp {3}}}+{{{3465} \\over {128}} \\  u}}, \\: ... \n",
       "\\right]\n",
       "\\leqno(NIL)\n",
       "} \\\\[0.9ex] {\\color{blue} \\scriptsize \\text{Stream(Polynomial(Fraction(Integer)))}} \\\\\n",
       "$$"
      ]
     },
     "metadata": {},
     "output_type": "display_data"
    }
   ],
   "source": [
    "%"
   ]
  },
  {
   "cell_type": "code",
   "execution_count": 23,
   "metadata": {},
   "outputs": [
    {
     "name": "stdout",
     "output_type": "stream",
     "text": [
      "   +t + %i   0 +\n",
      "   |           |\n",
      "   +  1     - 2+\n",
      "                                   Type: Matrix(Polynomial(Complex(Integer)))\n"
     ]
    },
    {
     "data": {
      "text/latex": [
       "\\(\\def\\sp{^}\\def\\sb{_}\\def\\leqno(#1){}\\)\\(\\def\\erf\\{\\mathrm{erf}}\\def\\sinh{\\mathrm{sinh}}\\)\\(\\def\\zag#1#2{{{ \\left.{#1}\\right|}\\over{\\left|{#2}\\right.}}}\\)\\(\\require{color}\\)$$\n",
       "{\\color{black} \\normalsize \n",
       "\\left[\n",
       "\\begin{array}{cc}\n",
       "{t+i} & 0 \\\\ \n",
       "1 & -2 \n",
       "\\end{array}\n",
       "\\right]\n",
       "\\leqno(NIL)\n",
       "} \\\\[0.9ex] {\\color{blue} \\scriptsize \\text{Matrix(Polynomial(Complex(Integer)))}} \\\\\n",
       "$$"
      ]
     },
     "metadata": {},
     "output_type": "display_data"
    }
   ],
   "source": [
    "matrix [ [t + %i,0], [1,-2] ]"
   ]
  },
  {
   "cell_type": "code",
   "execution_count": null,
   "metadata": {},
   "outputs": [],
   "source": []
  }
 ],
 "metadata": {
  "kernelspec": {
   "display_name": "SPAD",
   "language": "spad",
   "name": "spadkernel"
  },
  "language_info": {
   "file_extension": ".spad",
   "mimetype": "text/plain",
   "name": "SPAD"
  }
 },
 "nbformat": 4,
 "nbformat_minor": 2
}
