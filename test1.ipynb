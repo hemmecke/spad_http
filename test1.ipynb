{
 "cells": [
  {
   "cell_type": "code",
   "execution_count": 1,
   "metadata": {},
   "outputs": [
    {
     "name": "stdout",
     "output_type": "stream",
     "text": [
      "   Hello\n",
      "                                                        Type: Variable(Hello)\n"
     ]
    },
    {
     "data": {},
     "metadata": {},
     "output_type": "display_data"
    }
   ],
   "source": [
    "Hello"
   ]
  },
  {
   "cell_type": "code",
   "execution_count": 2,
   "metadata": {},
   "outputs": [
    {
     "name": "stdout",
     "output_type": "stream",
     "text": []
    },
    {
     "data": {},
     "metadata": {},
     "output_type": "display_data"
    }
   ],
   "source": [
    ")set output tex on"
   ]
  },
  {
   "cell_type": "code",
   "execution_count": 3,
   "metadata": {},
   "outputs": [
    {
     "name": "stdout",
     "output_type": "stream",
     "text": [
      "   x + 2\n",
      "                                                    Type: Polynomial(Integer)\n"
     ]
    },
    {
     "data": {
      "text/latex": [
       "$$\n",
       "x+2 \n",
       "\\leqno(NIL)\n",
       "$$\n",
       "\n"
      ]
     },
     "metadata": {},
     "output_type": "display_data"
    }
   ],
   "source": [
    "x+2"
   ]
  },
  {
   "cell_type": "code",
   "execution_count": 4,
   "metadata": {},
   "outputs": [
    {
     "name": "stdout",
     "output_type": "stream",
     "text": [
      "       8       7        6         5         4          3          2\n",
      "     (n  - 28 n  + 322 n  - 1960 n  + 6769 n  - 13132 n  + 13068 n  - 5040 n)\n",
      "  *\n",
      "            n - 8\n",
      "     (x + 1)\n",
      "                                                    Type: Expression(Integer)\n"
     ]
    },
    {
     "data": {
      "text/latex": [
       "$$\n",
       "{\\left( {{n} \\sp {8}} -{{28} \\  {{n} \\sp {7}}}+{{322} \\  {{n} \\sp {6}}} \n",
       "-{{1960} \\  {{n} \\sp {5}}}+{{6769} \\  {{n} \\sp {4}}} -{{13132} \\  {{n} \\sp \n",
       "{3}}}+{{13068} \\  {{n} \\sp {2}}} -{{5040} \\  n} \n",
       "\\right)}\n",
       "\\  {{{\\left( x+1 \n",
       "\\right)}}\n",
       "\\sp {{n -8}}} \n",
       "\\leqno(NIL)\n",
       "$$\n",
       "\n"
      ]
     },
     "metadata": {},
     "output_type": "display_data"
    }
   ],
   "source": [
    "D((1+x)^n,x,8)"
   ]
  },
  {
   "cell_type": "code",
   "execution_count": 5,
   "metadata": {},
   "outputs": [
    {
     "name": "stdout",
     "output_type": "stream",
     "text": [
      "   +x + 1  - y + x+\n",
      "   |              |\n",
      "   |  x       - y |\n",
      "   + z      %e    +\n",
      "                                            Type: Matrix(Expression(Integer))\n"
     ]
    },
    {
     "data": {
      "text/latex": [
       "$$\n",
       "\\left[\n",
       "\\begin{array}{cc}\n",
       "{x+1} & {-y+x} \\\\ \n",
       "{{z} \\sp {x}} & {{e} \\sp {-y}} \n",
       "\\end{array}\n",
       "\\right]\n",
       "\\leqno(NIL)\n",
       "$$\n",
       "\n"
      ]
     },
     "metadata": {},
     "output_type": "display_data"
    }
   ],
   "source": [
    "matrix [[1+x,x-y],[z^x,exp(-y)]]"
   ]
  },
  {
   "cell_type": "code",
   "execution_count": 6,
   "metadata": {},
   "outputs": [
    {
     "name": "stdout",
     "output_type": "stream",
     "text": [
      "           1  4\n",
      "     Gamma(-,x )\n",
      "           4\n",
      "   - -----------\n",
      "          4\n",
      "                                         Type: Union(Expression(Integer),...)\n"
     ]
    },
    {
     "data": {
      "text/latex": [
       "$$\n",
       "-{{\\Gamma \n",
       "\\left(\n",
       "{{1 \\over 4}, \\: {{x} \\sp {4}}} \n",
       "\\right)}\n",
       "\\over 4} \n",
       "\\leqno(NIL)\n",
       "$$\n",
       "\n"
      ]
     },
     "metadata": {},
     "output_type": "display_data"
    }
   ],
   "source": [
    "integrate(exp(-x^4),x)"
   ]
  },
  {
   "cell_type": "code",
   "execution_count": 7,
   "metadata": {},
   "outputs": [
    {
     "name": "stdout",
     "output_type": "stream",
     "text": [
      "                                                                   Type: Void\n"
     ]
    },
    {
     "data": {
      "text/latex": []
     },
     "metadata": {},
     "output_type": "display_data"
    }
   ],
   "source": [
    "IF ==> Interval Float"
   ]
  },
  {
   "cell_type": "code",
   "execution_count": 8,
   "metadata": {},
   "outputs": [
    {
     "name": "stdout",
     "output_type": "stream",
     "text": [
      "   [0.25, 0.25]\n",
      "                                                        Type: Interval(Float)\n"
     ]
    },
    {
     "data": {
      "text/latex": [
       "$$\n",
       "\\left[\n",
       "{0.25}, \\: {0.25} \n",
       "\\right]\n",
       "\\leqno(NIL)\n",
       "$$\n",
       "\n"
      ]
     },
     "metadata": {},
     "output_type": "display_data"
    }
   ],
   "source": [
    "interval(0.25)$IF"
   ]
  },
  {
   "cell_type": "code",
   "execution_count": 9,
   "metadata": {},
   "outputs": [
    {
     "name": "stdout",
     "output_type": "stream",
     "text": [
      "   [3.1415926535_897932384, 3.1415926535_897932385]\n",
      "                                                        Type: Interval(Float)\n"
     ]
    },
    {
     "data": {
      "text/latex": [
       "$$\n",
       "\\left[\n",
       "{3.1415926535\\_897932384}, \\: {3.1415926535\\_897932385} \n",
       "\\right]\n",
       "\\leqno(NIL)\n",
       "$$\n",
       "\n"
      ]
     },
     "metadata": {},
     "output_type": "display_data"
    }
   ],
   "source": [
    "pi()$IF"
   ]
  },
  {
   "cell_type": "code",
   "execution_count": 10,
   "metadata": {},
   "outputs": [
    {
     "name": "stdout",
     "output_type": "stream",
     "text": [
      "   [97.4090910340_02437233, 97.4090910340_02437238]\n",
      "                                                        Type: Interval(Float)\n"
     ]
    },
    {
     "data": {
      "text/latex": [
       "$$\n",
       "\\left[\n",
       "{97.4090910340\\_02437233}, \\: {97.4090910340\\_02437238} \n",
       "\\right]\n",
       "\\leqno(NIL)\n",
       "$$\n",
       "\n"
      ]
     },
     "metadata": {},
     "output_type": "display_data"
    }
   ],
   "source": [
    "%^4"
   ]
  },
  {
   "cell_type": "code",
   "execution_count": 18,
   "metadata": {},
   "outputs": [
    {
     "name": "stdout",
     "output_type": "stream",
     "text": [
      "       6        4        2\n",
      "   64 x  - 480 x  + 720 x  - 120\n",
      "                                                    Type: Polynomial(Integer)\n"
     ]
    },
    {
     "data": {
      "text/latex": [
       "$$\n",
       "{{64} \\  {{x} \\sp {6}}} -{{480} \\  {{x} \\sp {4}}}+{{720} \\  {{x} \\sp {2}}} \n",
       "-{120} \n",
       "\\leqno(NIL)\n",
       "$$\n",
       "\n"
      ]
     },
     "metadata": {},
     "output_type": "display_data"
    }
   ],
   "source": [
    "hermiteH(6,x)"
   ]
  },
  {
   "cell_type": "code",
   "execution_count": null,
   "metadata": {},
   "outputs": [],
   "source": []
  }
 ],
 "metadata": {
  "kernelspec": {
   "display_name": "SPAD",
   "language": "spad",
   "name": "spadkernel"
  },
  "language_info": {
   "file_extension": ".spad",
   "mimetype": "text/plain",
   "name": "SPAD"
  }
 },
 "nbformat": 4,
 "nbformat_minor": 2
}
