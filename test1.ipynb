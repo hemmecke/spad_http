{
 "cells": [
  {
   "cell_type": "code",
   "execution_count": 1,
   "metadata": {},
   "outputs": [
    {
     "name": "stdout",
     "output_type": "stream",
     "text": [
      "   x\n",
      "                                                            Type: Variable(x)\n"
     ]
    }
   ],
   "source": [
    "x"
   ]
  },
  {
   "cell_type": "code",
   "execution_count": 2,
   "metadata": {},
   "outputs": [
    {
     "name": "stdout",
     "output_type": "stream",
     "text": [
      "error\n"
     ]
    }
   ],
   "source": [
    "D(x²,x)"
   ]
  },
  {
   "cell_type": "code",
   "execution_count": 3,
   "metadata": {},
   "outputs": [
    {
     "name": "stdout",
     "output_type": "stream",
     "text": [
      "      n - 1\n",
      "   n x\n",
      "                                                    Type: Expression(Integer)\n"
     ]
    }
   ],
   "source": [
    "D(x^n,x)"
   ]
  },
  {
   "cell_type": "code",
   "execution_count": 4,
   "metadata": {},
   "outputs": [
    {
     "name": "stdout",
     "output_type": "stream",
     "text": []
    }
   ],
   "source": [
    ")summary"
   ]
  },
  {
   "cell_type": "code",
   "execution_count": 5,
   "metadata": {},
   "outputs": [
    {
     "name": "stdout",
     "output_type": "stream",
     "text": [
      "   1  2\n",
      "   - x\n",
      "   2\n",
      "                                          Type: Polynomial(Fraction(Integer))\n"
     ]
    }
   ],
   "source": [
    "integrate(x,x)"
   ]
  },
  {
   "cell_type": "code",
   "execution_count": 6,
   "metadata": {},
   "outputs": [
    {
     "name": "stdout",
     "output_type": "stream",
     "text": [
      "                                                                   Type: Void\n"
     ]
    }
   ],
   "source": [
    "f(x) == sin(x)*exp(-x^2)"
   ]
  },
  {
   "cell_type": "code",
   "execution_count": 7,
   "metadata": {},
   "outputs": [
    {
     "name": "stdout",
     "output_type": "stream",
     "text": [
      "        2\n",
      "     - y\n",
      "   %e    sin(y)\n",
      "                                                    Type: Expression(Integer)\n"
     ]
    }
   ],
   "source": [
    "f(y)"
   ]
  },
  {
   "cell_type": "code",
   "execution_count": 8,
   "metadata": {},
   "outputs": [
    {
     "name": "stdout",
     "output_type": "stream",
     "text": [
      "                  2                        2\n",
      "       2       - z                      - z\n",
      "   (4 z  - 3)%e    sin(z) - 4 z cos(z)%e\n",
      "                                                    Type: Expression(Integer)\n"
     ]
    }
   ],
   "source": [
    "D(f(z),z,2)"
   ]
  },
  {
   "cell_type": "code",
   "execution_count": 9,
   "metadata": {},
   "outputs": [
    {
     "name": "stdout",
     "output_type": "stream",
     "text": []
    }
   ],
   "source": [
    ")version"
   ]
  },
  {
   "cell_type": "code",
   "execution_count": 10,
   "metadata": {},
   "outputs": [
    {
     "name": "stdout",
     "output_type": "stream",
     "text": []
    }
   ],
   "source": [
    ")lisp (+ 2 3)"
   ]
  },
  {
   "cell_type": "code",
   "execution_count": 11,
   "metadata": {},
   "outputs": [
    {
     "name": "stdout",
     "output_type": "stream",
     "text": [
      "   [sin(1), sin(2), sin(3), sin(4), sin(5), sin(6), sin(7), sin(8), sin(9),\n",
      "    sin(10)]\n",
      "                                              Type: List(Expression(Integer))\n"
     ]
    }
   ],
   "source": [
    "[sin(i) for i in 1..10]"
   ]
  },
  {
   "cell_type": "code",
   "execution_count": 12,
   "metadata": {},
   "outputs": [
    {
     "name": "stdout",
     "output_type": "stream",
     "text": []
    }
   ],
   "source": [
    ")d op D"
   ]
  },
  {
   "cell_type": "code",
   "execution_count": 13,
   "metadata": {},
   "outputs": [
    {
     "name": "stdout",
     "output_type": "stream",
     "text": [
      "    12      10       8       6       4      2\n",
      "   x   + 6 x   + 15 x  + 20 x  + 15 x  + 6 x  + 1\n",
      "                                                    Type: Polynomial(Integer)\n"
     ]
    }
   ],
   "source": [
    "(1+x^2)^6"
   ]
  },
  {
   "cell_type": "code",
   "execution_count": null,
   "metadata": {},
   "outputs": [],
   "source": [
    "[(1/k)::Float for k in]"
   ]
  }
 ],
 "metadata": {
  "kernelspec": {
   "display_name": "SPAD",
   "language": "",
   "name": "spadkernel"
  },
  "language_info": {
   "file_extension": ".spad",
   "mimetype": "text/plain",
   "name": "SPAD"
  }
 },
 "nbformat": 4,
 "nbformat_minor": 2
}
