{
 "cells": [
  {
   "cell_type": "code",
   "execution_count": 1,
   "metadata": {},
   "outputs": [
    {
     "name": "stdout",
     "output_type": "stream",
     "text": [
      "Value = \"FriCAS 1.3.3 compiled at Don Apr 12 19:26:08 CEST 2018\"\n"
     ]
    },
    {
     "data": {},
     "metadata": {},
     "output_type": "display_data"
    }
   ],
   "source": [
    ")version"
   ]
  },
  {
   "cell_type": "code",
   "execution_count": 2,
   "metadata": {},
   "outputs": [
    {
     "name": "stdout",
     "output_type": "stream",
     "text": [
      "   x + 2\n",
      "                                                    Type: Polynomial(Integer)\n"
     ]
    },
    {
     "data": {},
     "metadata": {},
     "output_type": "display_data"
    }
   ],
   "source": [
    "x+2"
   ]
  },
  {
   "cell_type": "code",
   "execution_count": 3,
   "metadata": {},
   "outputs": [
    {
     "name": "stdout",
     "output_type": "stream",
     "text": [
      "      2     3\n",
      "   3 x cos(x )\n",
      "                                                    Type: Expression(Integer)\n"
     ]
    },
    {
     "data": {},
     "metadata": {},
     "output_type": "display_data"
    }
   ],
   "source": [
    "D(sin(x^3),x)"
   ]
  },
  {
   "cell_type": "code",
   "execution_count": null,
   "metadata": {},
   "outputs": [
    {
     "name": "stdout",
     "output_type": "stream",
     "text": [
      "0.1.0"
     ]
    }
   ],
   "source": [
    ")python __version__"
   ]
  },
  {
   "cell_type": "code",
   "execution_count": 5,
   "metadata": {},
   "outputs": [
    {
     "name": "stdout",
     "output_type": "stream",
     "text": [
      "Available help topics for system commands are:\n",
      "\n",
      " boot   cd     clear    close     compile   display\n",
      " edit   fin    frame    help      history   library\n",
      " lisp   load   ltrace   pquit     quit      read\n",
      " set    show   spool    synonym   system    trace\n",
      " undo   what\n",
      "\n",
      "Issue \")help help\" for more information about the help command.\n"
     ]
    },
    {
     "data": {},
     "metadata": {},
     "output_type": "display_data"
    }
   ],
   "source": [
    ")help"
   ]
  },
  {
   "cell_type": "code",
   "execution_count": 6,
   "metadata": {},
   "outputs": [
    {
     "name": "stdout",
     "output_type": "stream",
     "text": [
      "\n",
      "There are 20 exposed functions called integrate :\n",
      "   [1] (D2,SegmentBinding(OrderedCompletion(D2))) -> Union(f1: \n",
      "            OrderedCompletion(D2),f2: List(OrderedCompletion(D2)),fail: \n",
      "            failed,pole: potentialPole)\n",
      "            from ElementaryFunctionDefiniteIntegration(D4,D2)\n",
      "            if D2 has Join(TRANFUN,PRIMCAT,ACFS(D4)) and D4 has Join(\n",
      "            PFECAT,COMPAR,CHARZ,RETRACT(INT),LINEXP(INT))\n",
      "   [2] (D2,SegmentBinding(OrderedCompletion(D2)),String) -> Union(f1: \n",
      "            OrderedCompletion(D2),f2: List(OrderedCompletion(D2)),fail: \n",
      "            failed,pole: potentialPole)\n",
      "            from ElementaryFunctionDefiniteIntegration(D5,D2)\n",
      "            if D2 has Join(TRANFUN,PRIMCAT,ACFS(D5)) and D5 has Join(\n",
      "            PFECAT,COMPAR,CHARZ,RETRACT(INT),LINEXP(INT))\n",
      "   [3] (Fraction(Polynomial(D4)),SegmentBinding(OrderedCompletion(\n",
      "            Expression(D4)))) -> Union(f1: OrderedCompletion(Expression(D4)),\n",
      "            f2: List(OrderedCompletion(Expression(D4))),fail: failed,pole: \n",
      "            potentialPole)\n",
      "            from RationalFunctionDefiniteIntegration(D4)\n",
      "            if D4 has Join(EUCDOM,COMPAR,CHARZ,RETRACT(INT),LINEXP(INT)\n",
      "            )\n",
      "   [4] (Fraction(Polynomial(D5)),SegmentBinding(OrderedCompletion(\n",
      "            Expression(D5))),String) -> Union(f1: OrderedCompletion(\n",
      "            Expression(D5)),f2: List(OrderedCompletion(Expression(D5))),fail\n",
      "            : failed,pole: potentialPole)\n",
      "            from RationalFunctionDefiniteIntegration(D5)\n",
      "            if D5 has Join(EUCDOM,COMPAR,CHARZ,RETRACT(INT),LINEXP(INT)\n",
      "            )\n",
      "   [5] (Fraction(Polynomial(D4)),SegmentBinding(OrderedCompletion(\n",
      "            Fraction(Polynomial(D4))))) -> Union(f1: OrderedCompletion(\n",
      "            Expression(D4)),f2: List(OrderedCompletion(Expression(D4))),fail\n",
      "            : failed,pole: potentialPole)\n",
      "            from RationalFunctionDefiniteIntegration(D4)\n",
      "            if D4 has Join(EUCDOM,COMPAR,CHARZ,RETRACT(INT),LINEXP(INT)\n",
      "            )\n",
      "   [6] (Fraction(Polynomial(D5)),SegmentBinding(OrderedCompletion(\n",
      "            Fraction(Polynomial(D5)))),String) -> Union(f1: OrderedCompletion\n",
      "            (Expression(D5)),f2: List(OrderedCompletion(Expression(D5))),fail\n",
      "            : failed,pole: potentialPole)\n",
      "            from RationalFunctionDefiniteIntegration(D5)\n",
      "            if D5 has Join(EUCDOM,COMPAR,CHARZ,RETRACT(INT),LINEXP(INT)\n",
      "            )\n",
      "   [7] (D2,Distribution(D4)) -> D1\n",
      "            from DistributionPolynomialPackage(D4,D1,D2)\n",
      "            if D4 has COMRING and D1 has Join(COMRING,MODULE(D4)) and \n",
      "            D2 has UPOLYC(D1)\n",
      "   [8] (D2,Symbol) -> Union(D2,List(D2)) from FunctionSpaceIntegration(\n",
      "            D4,D2)\n",
      "            if D4 has Join(GCDDOM,COMPAR,CHARZ,PFECAT,RETRACT(INT),\n",
      "            LINEXP(INT)) and D2 has Join(TRANFUN,PRIMCAT,ACFS(D4))\n",
      "   [9] (GeneralUnivariatePowerSeries(D2,D3,D4),Variable(D3)) -> \n",
      "            GeneralUnivariatePowerSeries(D2,D3,D4)\n",
      "            from GeneralUnivariatePowerSeries(D2,D3,D4)\n",
      "            if D3: SYMBOL and D2 has ALGEBRA(FRAC(INT)) and D2 has RING\n",
      "            and D4: D2\n",
      "   [10] (Fraction(Polynomial(D4)),Symbol) -> Union(Expression(D4),List(\n",
      "            Expression(D4)))\n",
      "            from IntegrationResultRFToFunction(D4)\n",
      "            if D4 has CHARZ and D4 has Join(GCDDOM,RETRACT(INT),COMPAR,\n",
      "            LINEXP(INT))\n",
      "   [11] (D,D1) -> D from D\n",
      "            if D has MTSCAT(D2,D1) and D2 has RING and D1 has ORDSET \n",
      "            and D2 has ALGEBRA(FRAC(INT))\n",
      "   [12] (Polynomial(D2),Symbol) -> Polynomial(D2) from Polynomial(D2)\n",
      "            if D2 has ALGEBRA(FRAC(INT)) and D2 has RING\n",
      "   [13] (TaylorSeries(D2),Symbol,D2) -> TaylorSeries(D2) from \n",
      "            TaylorSeries(D2)\n",
      "            if D2 has ALGEBRA(FRAC(INT)) and D2 has RING\n",
      "   [14] (D,D1) -> D from D\n",
      "            if D1 = SYMBOL and D has ULSCAT(D2) and D2 has RING and D2 \n",
      "            has ACFS(INT) and D2 has PRIMCAT and D2 has TRANFUN and D2 \n",
      "            has ALGEBRA(FRAC(INT)) or D1 = SYMBOL and D has ULSCAT(D2) \n",
      "            and D2 has RING and D2 has variables: D2 -> LIST(D1) and D2\n",
      "            has integrate: (D2, D1) -> D2 and D2 has ALGEBRA(FRAC(INT))\n",
      "            \n",
      "   [15] D -> D from D\n",
      "            if D has ULSCAT(D1) and D1 has RING and D1 has ALGEBRA(FRAC\n",
      "            (INT))\n",
      "   [16] D -> D from D\n",
      "            if D has UPOLYC(D1) and D1 has Join(SRNG,ABELMON) and D1 \n",
      "            has ALGEBRA(FRAC(INT))\n",
      "   [17] (D,D1) -> D from D\n",
      "            if D1 = SYMBOL and D has UPXSCAT(D2) and D2 has RING and D2\n",
      "            has ACFS(INT) and D2 has PRIMCAT and D2 has TRANFUN and D2 \n",
      "            has ALGEBRA(FRAC(INT)) or D1 = SYMBOL and D has UPXSCAT(D2)\n",
      "            and D2 has RING and D2 has variables: D2 -> LIST(D1) and D2\n",
      "            has integrate: (D2, D1) -> D2 and D2 has ALGEBRA(FRAC(INT))\n",
      "            \n",
      "   [18] D -> D from D\n",
      "            if D has UPXSCAT(D1) and D1 has RING and D1 has ALGEBRA(\n",
      "            FRAC(INT))\n",
      "   [19] (D,D1) -> D from D\n",
      "            if D1 = SYMBOL and D has UTSCAT(D2) and D2 has RING and D2 \n",
      "            has ACFS(INT) and D2 has PRIMCAT and D2 has TRANFUN and D2 \n",
      "            has ALGEBRA(FRAC(INT)) or D1 = SYMBOL and D has UTSCAT(D2) \n",
      "            and D2 has RING and D2 has variables: D2 -> LIST(D1) and D2\n",
      "            has integrate: (D2, D1) -> D2 and D2 has ALGEBRA(FRAC(INT))\n",
      "            \n",
      "   [20] D -> D from D\n",
      "            if D has UTSCAT(D1) and D1 has RING and D1 has ALGEBRA(FRAC\n",
      "            (INT))\n",
      "\n",
      "There are 13 unexposed functions called integrate :\n",
      "   [1] Fraction(D4) -> IntegrationResult(Fraction(D4))\n",
      "            from RationalIntegration(D3,D4)\n",
      "            if D4 has UPOLYC(D3) and D3 has Join(FIELD,CHARZ,RETRACT(\n",
      "            INT))\n",
      "   [2] InnerSparseUnivariatePowerSeries(D1) -> \n",
      "            InnerSparseUnivariatePowerSeries(D1)\n",
      "            from InnerSparseUnivariatePowerSeries(D1)\n",
      "            if D1 has ALGEBRA(FRAC(INT)) and D1 has RING\n",
      "   [3] (D,PositiveInteger) -> D from D if D has JBC\n",
      "   [4] (SparseMultivariateTaylorSeries(D2,D1,D3),D1,D2) -> \n",
      "            SparseMultivariateTaylorSeries(D2,D1,D3)\n",
      "            from SparseMultivariateTaylorSeries(D2,D1,D3)\n",
      "            if D2 has ALGEBRA(FRAC(INT)) and D2 has RING and D1 has \n",
      "            ORDSET and D3 has POLYCAT(D2,INDE(D1),D1)\n",
      "   [5] (D2,Stream(D2)) -> Stream(D2)\n",
      "            from StreamExponentialSeriesOperations(D2) if D2 has \n",
      "            COMRING\n",
      "   [6] (D2,Stream(D2)) -> Stream(D2) from StreamTaylorSeriesOperations(\n",
      "            D2)\n",
      "            if D2 has ALGEBRA(FRAC(INT)) and D2 has RING\n",
      "   [7] (SparseUnivariateLaurentSeries(D2,D3,D4),Variable(D3)) -> \n",
      "            SparseUnivariateLaurentSeries(D2,D3,D4)\n",
      "            from SparseUnivariateLaurentSeries(D2,D3,D4)\n",
      "            if D3: SYMBOL and D2 has ALGEBRA(FRAC(INT)) and D2 has RING\n",
      "            and D4: D2\n",
      "   [8] (SparseUnivariatePuiseuxSeries(D2,D3,D4),Variable(D3)) -> \n",
      "            SparseUnivariatePuiseuxSeries(D2,D3,D4)\n",
      "            from SparseUnivariatePuiseuxSeries(D2,D3,D4)\n",
      "            if D3: SYMBOL and D2 has ALGEBRA(FRAC(INT)) and D2 has RING\n",
      "            and D4: D2\n",
      "   [9] (SparseUnivariateTaylorSeries(D2,D3,D4),Variable(D3)) -> \n",
      "            SparseUnivariateTaylorSeries(D2,D3,D4)\n",
      "            from SparseUnivariateTaylorSeries(D2,D3,D4)\n",
      "            if D3: SYMBOL and D2 has ALGEBRA(FRAC(INT)) and D2 has RING\n",
      "            and D4: D2\n",
      "   [10] (UnivariateFormalPowerSeries(D2),Variable(x)) -> \n",
      "            UnivariateFormalPowerSeries(D2)\n",
      "            from UnivariateFormalPowerSeries(D2)\n",
      "            if D2 has ALGEBRA(FRAC(INT)) and D2 has RING\n",
      "   [11] (UnivariateLaurentSeries(D2,D3,D4),Variable(D3)) -> \n",
      "            UnivariateLaurentSeries(D2,D3,D4)\n",
      "            from UnivariateLaurentSeries(D2,D3,D4)\n",
      "            if D3: SYMBOL and D2 has ALGEBRA(FRAC(INT)) and D2 has RING\n",
      "            and D4: D2\n",
      "   [12] (UnivariatePuiseuxSeries(D2,D3,D4),Variable(D3)) -> \n",
      "            UnivariatePuiseuxSeries(D2,D3,D4)\n",
      "            from UnivariatePuiseuxSeries(D2,D3,D4)\n",
      "            if D3: SYMBOL and D2 has ALGEBRA(FRAC(INT)) and D2 has RING\n",
      "            and D4: D2\n",
      "   [13] (UnivariateTaylorSeries(D2,D3,D4),Variable(D3)) -> \n",
      "            UnivariateTaylorSeries(D2,D3,D4)\n",
      "            from UnivariateTaylorSeries(D2,D3,D4)\n",
      "            if D3: SYMBOL and D2 has ALGEBRA(FRAC(INT)) and D2 has RING\n",
      "            and D4: D2\n"
     ]
    },
    {
     "data": {},
     "metadata": {},
     "output_type": "display_data"
    }
   ],
   "source": [
    ")d op integrate"
   ]
  },
  {
   "cell_type": "code",
   "execution_count": 7,
   "metadata": {},
   "outputs": [
    {
     "name": "stdout",
     "output_type": "stream",
     "text": [
      "error\n"
     ]
    },
    {
     "name": "stderr",
     "output_type": "stream",
     "text": [
      " \n",
      "   >> Error detected within library code:\n",
      "   division by zero\n",
      "\n"
     ]
    },
    {
     "data": {},
     "metadata": {},
     "output_type": "display_data"
    }
   ],
   "source": [
    "1/0"
   ]
  },
  {
   "cell_type": "code",
   "execution_count": 8,
   "metadata": {},
   "outputs": [
    {
     "name": "stdout",
     "output_type": "stream",
     "text": [
      "error\n"
     ]
    },
    {
     "name": "stderr",
     "output_type": "stream",
     "text": [
      "   There are 4 exposed and 2 unexposed library operations named \n",
      "      integrate having 1 argument(s) but none was determined to be \n",
      "      applicable. Use HyperDoc Browse, or issue\n",
      "                            )display op integrate\n",
      "      to learn more about the available operations. Perhaps \n",
      "      package-calling the operation or using coercions on the arguments\n",
      "      will allow you to apply the operation.\n",
      " \n",
      "   Cannot find a definition or applicable library operation named \n",
      "      integrate with argument type(s) \n",
      "                                 Variable(z)\n",
      "      \n",
      "      Perhaps you should use \"@\" to indicate the required return type, \n",
      "      or \"$\" to specify which version of the function you need.\n",
      "\n"
     ]
    },
    {
     "data": {},
     "metadata": {},
     "output_type": "display_data"
    }
   ],
   "source": [
    "integrate(z)"
   ]
  },
  {
   "cell_type": "code",
   "execution_count": 9,
   "metadata": {},
   "outputs": [
    {
     "name": "stdout",
     "output_type": "stream",
     "text": [
      "   1  2\n",
      "   - z\n",
      "   2\n",
      "                                          Type: Polynomial(Fraction(Integer))\n"
     ]
    },
    {
     "data": {},
     "metadata": {},
     "output_type": "display_data"
    }
   ],
   "source": [
    "integrate(z,z)"
   ]
  },
  {
   "cell_type": "code",
   "execution_count": 10,
   "metadata": {},
   "outputs": [
    {
     "name": "stdout",
     "output_type": "stream",
     "text": []
    },
    {
     "data": {},
     "metadata": {},
     "output_type": "display_data"
    }
   ],
   "source": [
    ")set output algebra off"
   ]
  },
  {
   "cell_type": "code",
   "execution_count": 11,
   "metadata": {},
   "outputs": [
    {
     "data": {},
     "metadata": {},
     "output_type": "display_data"
    }
   ],
   "source": [
    ")set output tex on"
   ]
  },
  {
   "cell_type": "code",
   "execution_count": 12,
   "metadata": {},
   "outputs": [
    {
     "data": {
      "text/latex": [
       "\\(\\def\\sp{^}\\def\\sb{_}\\def\\leqno(#1){}\\)\\(\\def\\erf\\{\\mathrm{erf}}\\def\\sinh{\\mathrm{sinh}}\\)\\(\\def\\zag#1#2{{{ \\left.{#1}\\right|}\\over{\\left|{#2}\\right.}}}\\)\\(\\require{color}\\)$$\n",
       "{\\color{black} \\normalsize \n",
       "\\left[\n",
       "\\begin{array}{ccc}\n",
       "1 & 2 & 3 \\\\ \n",
       "\\pi & i & q \\\\ \n",
       "-i & r & e \n",
       "\\end{array}\n",
       "\\right]\n",
       "\\leqno(NIL)\n",
       "} \\\\[0.9ex] {\\color{blue} \\scriptsize \\text{Matrix(Expression(Complex(Integer)))}} \\\\\n",
       "$$"
      ]
     },
     "metadata": {},
     "output_type": "display_data"
    }
   ],
   "source": [
    "matrix [[1,2,3],[%pi,%i,q],[-%i,r,%e]]"
   ]
  },
  {
   "cell_type": "code",
   "execution_count": 13,
   "metadata": {},
   "outputs": [
    {
     "data": {
      "text/latex": [
       "\\(\\def\\sp{^}\\def\\sb{_}\\def\\leqno(#1){}\\)\\(\\def\\erf\\{\\mathrm{erf}}\\def\\sinh{\\mathrm{sinh}}\\)\\(\\def\\zag#1#2{{{ \\left.{#1}\\right|}\\over{\\left|{#2}\\right.}}}\\)\\(\\require{color}\\)$$\n",
       "{\\color{black} \\normalsize \n",
       "{{r \\  {{r} \\sp {N}}} -r} \\over {r -1} \n",
       "\\leqno(NIL)\n",
       "} \\\\[0.9ex] {\\color{blue} \\scriptsize \\text{Expression(Integer)}} \\\\\n",
       "$$"
      ]
     },
     "metadata": {},
     "output_type": "display_data"
    }
   ],
   "source": [
    "sum(r^j,j=1..N)"
   ]
  },
  {
   "cell_type": "code",
   "execution_count": 14,
   "metadata": {},
   "outputs": [
    {
     "data": {
      "text/latex": [
       "\\(\\def\\sp{^}\\def\\sb{_}\\def\\leqno(#1){}\\)\\(\\def\\erf\\{\\mathrm{erf}}\\def\\sinh{\\mathrm{sinh}}\\)\\(\\def\\zag#1#2{{{ \\left.{#1}\\right|}\\over{\\left|{#2}\\right.}}}\\)\\(\\require{color}\\)$$\n",
       "{\\color{black} \\normalsize \n",
       "{{\\erf \n",
       "\\left(\n",
       "{x} \n",
       "\\right)}\n",
       "\\  {\\sqrt {\\pi}}} \\over 2 \n",
       "\\leqno(NIL)\n",
       "} \\\\[0.9ex] {\\color{blue} \\scriptsize \\text{Union(Expression(Integer),...)}} \\\\\n",
       "$$"
      ]
     },
     "metadata": {},
     "output_type": "display_data"
    }
   ],
   "source": [
    "integrate(exp(-x^2),x)"
   ]
  },
  {
   "cell_type": "code",
   "execution_count": 15,
   "metadata": {},
   "outputs": [
    {
     "data": {
      "text/latex": [
       "\\(\\def\\sp{^}\\def\\sb{_}\\def\\leqno(#1){}\\)\\(\\def\\erf\\{\\mathrm{erf}}\\def\\sinh{\\mathrm{sinh}}\\)\\(\\def\\zag#1#2{{{ \\left.{#1}\\right|}\\over{\\left|{#2}\\right.}}}\\)\\(\\require{color}\\)$$\n",
       "{\\color{black} \\normalsize } \\\\[0.9ex] {\\color{blue} \\scriptsize \\text{}} \\\\\n",
       "$$"
      ]
     },
     "metadata": {},
     "output_type": "display_data"
    }
   ],
   "source": [
    ")set message type off"
   ]
  },
  {
   "cell_type": "code",
   "execution_count": 16,
   "metadata": {},
   "outputs": [
    {
     "data": {
      "text/latex": [
       "\\(\\def\\sp{^}\\def\\sb{_}\\def\\leqno(#1){}\\)\\(\\def\\erf\\{\\mathrm{erf}}\\def\\sinh{\\mathrm{sinh}}\\)\\(\\def\\zag#1#2{{{ \\left.{#1}\\right|}\\over{\\left|{#2}\\right.}}}\\)\\(\\require{color}\\)$$\n",
       "{\\color{black} \\normalsize \n",
       "{e} \\sp {{{i \\  \\pi} \\over N}} \n",
       "\\leqno(NIL)\n",
       "} \\\\[0.9ex] {\\color{blue} \\scriptsize \\text{}} \\\\\n",
       "$$"
      ]
     },
     "metadata": {},
     "output_type": "display_data"
    }
   ],
   "source": [
    "exp(%i*%pi/N)"
   ]
  },
  {
   "cell_type": "code",
   "execution_count": 19,
   "metadata": {},
   "outputs": [
    {
     "data": {
      "text/latex": [
       "\\(\\def\\sp{^}\\def\\sb{_}\\def\\leqno(#1){}\\)\\(\\def\\erf\\{\\mathrm{erf}}\\def\\sinh{\\mathrm{sinh}}\\)\\(\\def\\zag#1#2{{{ \\left.{#1}\\right|}\\over{\\left|{#2}\\right.}}}\\)\\(\\require{color}\\)$$\n",
       "{\\color{black} \\normalsize } \\\\[0.9ex] {\\color{blue} \\scriptsize \\text{}} \\\\\n",
       "$$"
      ]
     },
     "metadata": {},
     "output_type": "display_data"
    }
   ],
   "source": [
    ")set mess type on"
   ]
  },
  {
   "cell_type": "code",
   "execution_count": 20,
   "metadata": {},
   "outputs": [
    {
     "data": {
      "text/latex": [
       "\\(\\def\\sp{^}\\def\\sb{_}\\def\\leqno(#1){}\\)\\(\\def\\erf\\{\\mathrm{erf}}\\def\\sinh{\\mathrm{sinh}}\\)\\(\\def\\zag#1#2{{{ \\left.{#1}\\right|}\\over{\\left|{#2}\\right.}}}\\)\\(\\require{color}\\)$$\n",
       "{\\color{black} \\normalsize \n",
       "{e} \\sp {{{i \\  \\pi} \\over N}} \n",
       "\\leqno(NIL)\n",
       "} \\\\[0.9ex] {\\color{blue} \\scriptsize \\text{Expression(Complex(Integer))}} \\\\\n",
       "$$"
      ]
     },
     "metadata": {},
     "output_type": "display_data"
    }
   ],
   "source": [
    "%"
   ]
  },
  {
   "cell_type": "code",
   "execution_count": 21,
   "metadata": {},
   "outputs": [
    {
     "data": {
      "text/latex": [
       "\\(\\def\\sp{^}\\def\\sb{_}\\def\\leqno(#1){}\\)\\(\\def\\erf\\{\\mathrm{erf}}\\def\\sinh{\\mathrm{sinh}}\\)\\(\\def\\zag#1#2{{{ \\left.{#1}\\right|}\\over{\\left|{#2}\\right.}}}\\)\\(\\require{color}\\)$$\n",
       "{\\color{black} \\normalsize } \\\\[0.9ex] {\\color{blue} \\scriptsize \\text{}} \\\\\n",
       "$$"
      ]
     },
     "metadata": {},
     "output_type": "display_data"
    }
   ],
   "source": [
    ")set output tex off"
   ]
  },
  {
   "cell_type": "code",
   "execution_count": 22,
   "metadata": {},
   "outputs": [
    {
     "data": {},
     "metadata": {},
     "output_type": "display_data"
    }
   ],
   "source": [
    ")set output algebra on"
   ]
  },
  {
   "cell_type": "code",
   "execution_count": 23,
   "metadata": {},
   "outputs": [
    {
     "name": "stdout",
     "output_type": "stream",
     "text": [
      "     %i %pi\n",
      "     ------\n",
      "        N\n",
      "   %e\n",
      "                                           Type: Expression(Complex(Integer))\n"
     ]
    },
    {
     "data": {},
     "metadata": {},
     "output_type": "display_data"
    }
   ],
   "source": [
    "%"
   ]
  },
  {
   "cell_type": "code",
   "execution_count": 24,
   "metadata": {},
   "outputs": [
    {
     "name": "stdout",
     "output_type": "stream",
     "text": [
      " Integer is a domain constructor.\n",
      " Abbreviation for Integer is INT \n",
      " This constructor is exposed in this frame.\n",
      " 98 Names for 121 Operations in this Domain.\n",
      "------------------------------- Operations --------------------------------\n",
      "\n",
      " ?*? : (Integer, %) -> %               ?*? : (PositiveInteger, %) -> %\n",
      " ?*? : (%, %) -> %                     ?+? : (%, %) -> %\n",
      " ?-? : (%, %) -> %                     -? : % -> %\n",
      " ?<? : (%, %) -> Boolean               ?<=? : (%, %) -> Boolean\n",
      " ?=? : (%, %) -> Boolean               ?>? : (%, %) -> Boolean\n",
      " ?>=? : (%, %) -> Boolean              D : (%, NonNegativeInteger) -> %\n",
      " D : % -> %                            OMwrite : (%, Boolean) -> String\n",
      " OMwrite : % -> String                 1 : () -> %\n",
      " 0 : () -> %                           ?^? : (%, PositiveInteger) -> %\n",
      " abs : % -> %                          addmod : (%, %, %) -> %\n",
      " annihilate? : (%, %) -> Boolean       antiCommutator : (%, %) -> %\n",
      " associates? : (%, %) -> Boolean       associator : (%, %, %) -> %\n",
      " base : () -> %                        binomial : (%, %) -> %\n",
      " bit? : (%, %) -> Boolean              coerce : % -> OutputForm\n",
      " coerce : Integer -> %                 coerce : % -> %\n",
      " commutator : (%, %) -> %              convert : % -> DoubleFloat\n",
      " convert : % -> Float                  convert : % -> InputForm\n",
      " convert : % -> Integer                convert : % -> Pattern(Integer)\n",
      " convert : % -> String                 copy : % -> %\n",
      " dec : % -> %                          differentiate : % -> %\n",
      " even? : % -> Boolean                  factor : % -> Factored(%)\n",
      " factorial : % -> %                    gcd : List(%) -> %\n",
      " gcd : (%, %) -> %                     hash : % -> SingleInteger\n",
      " inc : % -> %                          init : () -> %\n",
      " invmod : (%, %) -> %                  latex : % -> String\n",
      " lcm : List(%) -> %                    lcm : (%, %) -> %\n",
      " length : % -> %                       mask : % -> %\n",
      " max : (%, %) -> %                     min : (%, %) -> %\n",
      " mulmod : (%, %, %) -> %               negative? : % -> Boolean\n",
      " odd? : % -> Boolean                   one? : % -> Boolean\n",
      " opposite? : (%, %) -> Boolean         permutation : (%, %) -> %\n",
      " positive? : % -> Boolean              positiveRemainder : (%, %) -> %\n",
      " powmod : (%, %, %) -> %               prime? : % -> Boolean\n",
      " ?quo? : (%, %) -> %                   random : % -> %\n",
      " rational : % -> Fraction(Integer)     rational? : % -> Boolean\n",
      " recip : % -> Union(%,\"failed\")        ?rem? : (%, %) -> %\n",
      " retract : % -> Integer                sample : () -> %\n",
      " shift : (%, %) -> %                   sign : % -> Integer\n",
      " sizeLess? : (%, %) -> Boolean         smaller? : (%, %) -> Boolean\n",
      " squareFree : % -> Factored(%)         squareFreePart : % -> %\n",
      " submod : (%, %, %) -> %               unit? : % -> Boolean\n",
      " unitCanonical : % -> %                zero? : % -> Boolean\n",
      " ?~=? : (%, %) -> Boolean             \n",
      " ?*? : (NonNegativeInteger, %) -> %\n",
      " OMwrite : (OpenMathDevice, %, Boolean) -> Void\n",
      " OMwrite : (OpenMathDevice, %) -> Void\n",
      " ?^? : (%, NonNegativeInteger) -> %\n",
      " characteristic : () -> NonNegativeInteger\n",
      " differentiate : (%, NonNegativeInteger) -> %\n",
      " divide : (%, %) -> Record(quotient: %,remainder: %)\n",
      " euclideanSize : % -> NonNegativeInteger\n",
      " expressIdealMember : (List(%), %) -> Union(List(%),\"failed\")\n",
      " exquo : (%, %) -> Union(%,\"failed\")\n",
      " extendedEuclidean : (%, %) -> Record(coef1: %,coef2: %,generator: %)\n",
      " extendedEuclidean : (%, %, %) -> Union(Record(coef1: %,coef2: %),\"failed\")\n",
      " factorPolynomial : SparseUnivariatePolynomial(%) -> Factored(SparseUnivariatePolynomial(%))\n",
      " factorSquareFreePolynomial : SparseUnivariatePolynomial(%) -> Factored(SparseUnivariatePolynomial(%))\n",
      " gcdPolynomial : (SparseUnivariatePolynomial(%), SparseUnivariatePolynomial(%)) -> SparseUnivariatePolynomial(%)\n",
      " hashUpdate! : (HashState, %) -> HashState\n",
      " lcmCoef : (%, %) -> Record(llcm_res: %,coeff1: %,coeff2: %)\n",
      " leftPower : (%, NonNegativeInteger) -> %\n",
      " leftPower : (%, PositiveInteger) -> %\n",
      " leftRecip : % -> Union(%,\"failed\")\n",
      " multiEuclidean : (List(%), %) -> Union(List(%),\"failed\")\n",
      " nextItem : % -> Union(%,\"failed\")\n",
      " patternMatch : (%, Pattern(Integer), PatternMatchResult(Integer,%)) -> PatternMatchResult(Integer,%)\n",
      " principalIdeal : List(%) -> Record(coef: List(%),generator: %)\n",
      " rationalIfCan : % -> Union(Fraction(Integer),\"failed\")\n",
      " reducedSystem : Matrix(%) -> Matrix(Integer)\n",
      " reducedSystem : (Matrix(%), Vector(%)) -> Record(mat: Matrix(Integer),vec: Vector(Integer))\n",
      " retractIfCan : % -> Union(Integer,\"failed\")\n",
      " rightPower : (%, NonNegativeInteger) -> %\n",
      " rightPower : (%, PositiveInteger) -> %\n",
      " rightRecip : % -> Union(%,\"failed\")\n",
      " solveLinearPolynomialEquation : (List(SparseUnivariatePolynomial(%)), SparseUnivariatePolynomial(%)) -> Union(List(SparseUnivariatePolynomial(%)),\"failed\")\n",
      " squareFreePolynomial : SparseUnivariatePolynomial(%) -> Factored(SparseUnivariatePolynomial(%))\n",
      " subtractIfCan : (%, %) -> Union(%,\"failed\")\n",
      " symmetricRemainder : (%, %) -> %\n",
      " unitNormal : % -> Record(unit: %,canonical: %,associate: %)\n",
      "\n"
     ]
    },
    {
     "data": {},
     "metadata": {},
     "output_type": "display_data"
    }
   ],
   "source": [
    ")show Integer"
   ]
  },
  {
   "cell_type": "code",
   "execution_count": null,
   "metadata": {},
   "outputs": [],
   "source": []
  }
 ],
 "metadata": {
  "kernelspec": {
   "display_name": "SPAD",
   "language": "spad",
   "name": "spadkernel"
  },
  "language_info": {
   "file_extension": ".input",
   "mimetype": "text/plain",
   "name": "SPAD"
  }
 },
 "nbformat": 4,
 "nbformat_minor": 2
}
